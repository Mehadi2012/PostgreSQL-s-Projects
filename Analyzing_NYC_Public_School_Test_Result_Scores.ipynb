{
  "cells": [
    {
      "cell_type": "markdown",
      "metadata": {
        "id": "view-in-github",
        "colab_type": "text"
      },
      "source": [
        "<a href=\"https://colab.research.google.com/github/Mehadi2012/PostgreSQL-s-Projects/blob/main/Analyzing_NYC_Public_School_Test_Result_Scores.ipynb\" target=\"_parent\"><img src=\"https://colab.research.google.com/assets/colab-badge.svg\" alt=\"Open In Colab\"/></a>"
      ]
    },
    {
      "metadata": {
        "dc": {
          "key": "6"
        },
        "deletable": false,
        "editable": false,
        "run_control": {
          "frozen": true
        },
        "tags": [
          "context"
        ],
        "id": "NgGoevCI2Hqw"
      },
      "cell_type": "markdown",
      "source": [
        "## 1. Inspecting the data\n",
        "<p><img src=\"https://assets.datacamp.com/production/project_1416/img/schoolbus.jpg\" alt=\"New York City schoolbus\" height=\"300px\" width=\"300px\"></p>\n",
        "<p>Photo by <a href=\"https://unsplash.com/@jannis_lucas\">Jannis Lucas</a> on <a href=\"https://unsplash.com\">Unsplash</a>.\n",
        "<br></p>\n",
        "<p>Every year, American high school students take SATs, which are standardized tests intended to measure literacy, numeracy, and writing skills. There are three sections - reading, math, and writing, each with a maximum score of 800 points. These tests are extremely important for students and colleges, as they play a pivotal role in the admissions process.</p>\n",
        "<p>Analyzing the performance of schools is important for a variety of stakeholders, including policy and education professionals, researchers, government, and even parents considering which school their children should attend. </p>\n",
        "<p>In this notebook, we will take a look at data on SATs across public schools in New York City. Our database contains a single table:</p>\n",
        "<h1 id=\"schools\"><code>schools</code></h1>\n",
        "<table>\n",
        "<thead>\n",
        "<tr>\n",
        "<th>column</th>\n",
        "<th>type</th>\n",
        "<th>description</th>\n",
        "</tr>\n",
        "</thead>\n",
        "<tbody>\n",
        "<tr>\n",
        "<td><code>school_name</code></td>\n",
        "<td><code>varchar</code></td>\n",
        "<td>Name of school</td>\n",
        "</tr>\n",
        "<tr>\n",
        "<td><code>borough</code></td>\n",
        "<td><code>varchar</code></td>\n",
        "<td>Borough that the school is located in</td>\n",
        "</tr>\n",
        "<tr>\n",
        "<td><code>building_code</code></td>\n",
        "<td><code>varchar</code></td>\n",
        "<td>Code for the building</td>\n",
        "</tr>\n",
        "<tr>\n",
        "<td><code>average_math</code></td>\n",
        "<td><code>int</code></td>\n",
        "<td>Average math score for SATs</td>\n",
        "</tr>\n",
        "<tr>\n",
        "<td><code>average_reading</code></td>\n",
        "<td><code>int</code></td>\n",
        "<td>Average reading score for SATs</td>\n",
        "</tr>\n",
        "<tr>\n",
        "<td><code>average_writing</code></td>\n",
        "<td><code>int</code></td>\n",
        "<td>Average writing score for SATs</td>\n",
        "</tr>\n",
        "<tr>\n",
        "<td><code>percent_tested</code></td>\n",
        "<td><code>numeric</code></td>\n",
        "<td>Percentage of students completing SATs</td>\n",
        "</tr>\n",
        "</tbody>\n",
        "</table>\n",
        "<p>Le'ts familiarize ourselves with the data by taking a looking at the first few schools!</p>"
      ]
    },
    {
      "metadata": {
        "dc": {
          "key": "6"
        },
        "tags": [
          "sample_code"
        ],
        "trusted": true,
        "id": "0ZJDRxma2Hq1",
        "outputId": "404df1a5-6917-4481-9103-1acfcf87afd7"
      },
      "cell_type": "code",
      "source": [
        "%%sql\n",
        "postgresql:///schools\n",
        "    \n",
        "-- Select all columns from the database\n",
        "-- Display only 10 results\n",
        "SELECT * FROM schools LIMIT 10"
      ],
      "execution_count": null,
      "outputs": [
        {
          "output_type": "stream",
          "text": "10 rows affected.\n",
          "name": "stdout"
        },
        {
          "output_type": "execute_result",
          "execution_count": 148,
          "data": {
            "text/plain": "[('New Explorations into Science, Technology and Math High School', 'Manhattan', 'M022', 657, 601, 601, None),\n ('Essex Street Academy', 'Manhattan', 'M445', 395, 411, 387, 78.9),\n ('Lower Manhattan Arts Academy', 'Manhattan', 'M445', 418, 428, 415, 65.1),\n ('High School for Dual Language and Asian Studies', 'Manhattan', 'M445', 613, 453, 463, 95.9),\n ('Henry Street School for International Studies', 'Manhattan', 'M056', 410, 406, 381, 59.7),\n ('Bard High School Early College', 'Manhattan', 'M097', 634, 641, 639, 70.8),\n ('Urban Assembly Academy of Government and Law', 'Manhattan', 'M445', 389, 395, 381, 80.8),\n ('Marta Valle High School', 'Manhattan', 'M025', 438, 413, 394, 35.6),\n ('University Neighborhood High School', 'Manhattan', 'M446', 437, 355, 352, 69.9),\n ('New Design High School', 'Manhattan', 'M445', 381, 396, 372, 73.7)]",
            "text/html": "<table>\n    <thead>\n        <tr>\n            <th>school_name</th>\n            <th>borough</th>\n            <th>building_code</th>\n            <th>average_math</th>\n            <th>average_reading</th>\n            <th>average_writing</th>\n            <th>percent_tested</th>\n        </tr>\n    </thead>\n    <tbody>\n        <tr>\n            <td>New Explorations into Science, Technology and Math High School</td>\n            <td>Manhattan</td>\n            <td>M022</td>\n            <td>657</td>\n            <td>601</td>\n            <td>601</td>\n            <td>None</td>\n        </tr>\n        <tr>\n            <td>Essex Street Academy</td>\n            <td>Manhattan</td>\n            <td>M445</td>\n            <td>395</td>\n            <td>411</td>\n            <td>387</td>\n            <td>78.9</td>\n        </tr>\n        <tr>\n            <td>Lower Manhattan Arts Academy</td>\n            <td>Manhattan</td>\n            <td>M445</td>\n            <td>418</td>\n            <td>428</td>\n            <td>415</td>\n            <td>65.1</td>\n        </tr>\n        <tr>\n            <td>High School for Dual Language and Asian Studies</td>\n            <td>Manhattan</td>\n            <td>M445</td>\n            <td>613</td>\n            <td>453</td>\n            <td>463</td>\n            <td>95.9</td>\n        </tr>\n        <tr>\n            <td>Henry Street School for International Studies</td>\n            <td>Manhattan</td>\n            <td>M056</td>\n            <td>410</td>\n            <td>406</td>\n            <td>381</td>\n            <td>59.7</td>\n        </tr>\n        <tr>\n            <td>Bard High School Early College</td>\n            <td>Manhattan</td>\n            <td>M097</td>\n            <td>634</td>\n            <td>641</td>\n            <td>639</td>\n            <td>70.8</td>\n        </tr>\n        <tr>\n            <td>Urban Assembly Academy of Government and Law</td>\n            <td>Manhattan</td>\n            <td>M445</td>\n            <td>389</td>\n            <td>395</td>\n            <td>381</td>\n            <td>80.8</td>\n        </tr>\n        <tr>\n            <td>Marta Valle High School</td>\n            <td>Manhattan</td>\n            <td>M025</td>\n            <td>438</td>\n            <td>413</td>\n            <td>394</td>\n            <td>35.6</td>\n        </tr>\n        <tr>\n            <td>University Neighborhood High School</td>\n            <td>Manhattan</td>\n            <td>M446</td>\n            <td>437</td>\n            <td>355</td>\n            <td>352</td>\n            <td>69.9</td>\n        </tr>\n        <tr>\n            <td>New Design High School</td>\n            <td>Manhattan</td>\n            <td>M445</td>\n            <td>381</td>\n            <td>396</td>\n            <td>372</td>\n            <td>73.7</td>\n        </tr>\n    </tbody>\n</table>"
          },
          "metadata": {}
        }
      ]
    },
    {
      "metadata": {
        "dc": {
          "key": "13"
        },
        "deletable": false,
        "editable": false,
        "run_control": {
          "frozen": true
        },
        "tags": [
          "context"
        ],
        "id": "5Ib2IMBI2Hq3"
      },
      "cell_type": "markdown",
      "source": [
        "## 2. Finding missing values\n",
        "<p>It looks like the first school in our database had no data in the <code>percent_tested</code> column! </p>\n",
        "<p>Let's identify how many schools have missing data for this column, indicating schools that did not report the percentage of students tested. </p>\n",
        "<p>To understand whether this missing data problem is widespread in New York, we will also calculate the total number of schools in the database.</p>"
      ]
    },
    {
      "metadata": {
        "dc": {
          "key": "13"
        },
        "tags": [
          "sample_code"
        ],
        "trusted": true,
        "id": "fBMFqi2g2Hq3",
        "outputId": "ac5110e6-0a83-4477-c98c-597bbcf06871"
      },
      "cell_type": "code",
      "source": [
        "%%sql\n",
        "\n",
        "-- Count rows with percent_tested missing and total number of schools\n",
        "SELECT COUNT(*) - COUNT(percent_tested)AS num_tested_missing,COUNT(DISTINCT school_name)AS num_schools FROM schools;"
      ],
      "execution_count": null,
      "outputs": [
        {
          "output_type": "stream",
          "text": " * postgresql:///schools\n1 rows affected.\n",
          "name": "stdout"
        },
        {
          "output_type": "execute_result",
          "execution_count": 150,
          "data": {
            "text/plain": "[(20, 375)]",
            "text/html": "<table>\n    <thead>\n        <tr>\n            <th>num_tested_missing</th>\n            <th>num_schools</th>\n        </tr>\n    </thead>\n    <tbody>\n        <tr>\n            <td>20</td>\n            <td>375</td>\n        </tr>\n    </tbody>\n</table>"
          },
          "metadata": {}
        }
      ]
    },
    {
      "metadata": {
        "dc": {
          "key": "20"
        },
        "deletable": false,
        "editable": false,
        "run_control": {
          "frozen": true
        },
        "tags": [
          "context"
        ],
        "id": "0LBycJHY2Hq4"
      },
      "cell_type": "markdown",
      "source": [
        "## 3. Schools by building code\n",
        "<p>There are 20 schools with missing data for <code>percent_tested</code>, which only makes up 5% of all rows in the database.</p>\n",
        "<p>Now let's turn our attention to how many schools there are. When we displayed the first ten rows of the database, several had the same value in the <code>building_code</code> column, suggesting there are multiple schools based in the same location. Let's find out how many unique school locations exist in our database. </p>"
      ]
    },
    {
      "metadata": {
        "dc": {
          "key": "20"
        },
        "tags": [
          "sample_code"
        ],
        "trusted": true,
        "id": "Lk-A-KqU2Hq5",
        "outputId": "b56479a2-bba8-4e4b-9a54-5c861a0006ec"
      },
      "cell_type": "code",
      "source": [
        "%%sql\n",
        "\n",
        "-- Count the number of unique building_code values\n",
        "SELECT COUNT(DISTINCT building_code)AS num_school_buildings FROM schools;"
      ],
      "execution_count": null,
      "outputs": [
        {
          "output_type": "stream",
          "text": " * postgresql:///schools\n1 rows affected.\n",
          "name": "stdout"
        },
        {
          "output_type": "execute_result",
          "execution_count": 152,
          "data": {
            "text/plain": "[(233,)]",
            "text/html": "<table>\n    <thead>\n        <tr>\n            <th>num_school_buildings</th>\n        </tr>\n    </thead>\n    <tbody>\n        <tr>\n            <td>233</td>\n        </tr>\n    </tbody>\n</table>"
          },
          "metadata": {}
        }
      ]
    },
    {
      "metadata": {
        "dc": {
          "key": "27"
        },
        "deletable": false,
        "editable": false,
        "run_control": {
          "frozen": true
        },
        "tags": [
          "context"
        ],
        "id": "QpLNETYE2Hq5"
      },
      "cell_type": "markdown",
      "source": [
        "## 4. Best schools for math\n",
        "<p>Out of 375 schools, only 233 (62%) have a unique <code>building_code</code>! </p>\n",
        "<p>Now let's start our analysis of school performance. As each school reports individually, we will treat them this way rather than grouping them by <code>building_code</code>. </p>\n",
        "<p>First, let's find all schools with an average math score of at least 80% (out of 800). </p>"
      ]
    },
    {
      "metadata": {
        "dc": {
          "key": "27"
        },
        "tags": [
          "sample_code"
        ],
        "trusted": true,
        "id": "kGRHQBuH2Hq6",
        "outputId": "04d4ad30-4aae-4d36-fcb1-9b861b70154c"
      },
      "cell_type": "code",
      "source": [
        "%%sql\n",
        "\n",
        "-- Select school and average_math\n",
        "-- Filter for average_math 640 or higher\n",
        "-- Display from largest to smallest average_math\n",
        "SELECT school_name,average_math FROM schools WHERE average_math>=640 ORDER BY average_math DESC;"
      ],
      "execution_count": null,
      "outputs": [
        {
          "output_type": "stream",
          "text": " * postgresql:///schools\n10 rows affected.\n",
          "name": "stdout"
        },
        {
          "output_type": "execute_result",
          "execution_count": 154,
          "data": {
            "text/plain": "[('Stuyvesant High School', 754),\n ('Bronx High School of Science', 714),\n ('Staten Island Technical High School', 711),\n ('Queens High School for the Sciences at York College', 701),\n ('High School for Mathematics, Science, and Engineering at City College', 683),\n ('Brooklyn Technical High School', 682),\n ('Townsend Harris High School', 680),\n ('High School of American Studies at Lehman College', 669),\n ('New Explorations into Science, Technology and Math High School', 657),\n ('Eleanor Roosevelt High School', 641)]",
            "text/html": "<table>\n    <thead>\n        <tr>\n            <th>school_name</th>\n            <th>average_math</th>\n        </tr>\n    </thead>\n    <tbody>\n        <tr>\n            <td>Stuyvesant High School</td>\n            <td>754</td>\n        </tr>\n        <tr>\n            <td>Bronx High School of Science</td>\n            <td>714</td>\n        </tr>\n        <tr>\n            <td>Staten Island Technical High School</td>\n            <td>711</td>\n        </tr>\n        <tr>\n            <td>Queens High School for the Sciences at York College</td>\n            <td>701</td>\n        </tr>\n        <tr>\n            <td>High School for Mathematics, Science, and Engineering at City College</td>\n            <td>683</td>\n        </tr>\n        <tr>\n            <td>Brooklyn Technical High School</td>\n            <td>682</td>\n        </tr>\n        <tr>\n            <td>Townsend Harris High School</td>\n            <td>680</td>\n        </tr>\n        <tr>\n            <td>High School of American Studies at Lehman College</td>\n            <td>669</td>\n        </tr>\n        <tr>\n            <td>New Explorations into Science, Technology and Math High School</td>\n            <td>657</td>\n        </tr>\n        <tr>\n            <td>Eleanor Roosevelt High School</td>\n            <td>641</td>\n        </tr>\n    </tbody>\n</table>"
          },
          "metadata": {}
        }
      ]
    },
    {
      "metadata": {
        "dc": {
          "key": "34"
        },
        "deletable": false,
        "editable": false,
        "run_control": {
          "frozen": true
        },
        "tags": [
          "context"
        ],
        "id": "QbVHPgIM2Hq6"
      },
      "cell_type": "markdown",
      "source": [
        "## 5. Lowest reading score\n",
        "<p>Wow, there are only ten public schools in New York City with an average math score of at least 640!</p>\n",
        "<p>Now let's look at the other end of the spectrum and find the single lowest score for reading. We will only select the score, not the school, to avoid naming and shaming!</p>"
      ]
    },
    {
      "metadata": {
        "dc": {
          "key": "34"
        },
        "tags": [
          "sample_code"
        ],
        "trusted": true,
        "id": "xYjcBpAC2Hq7",
        "outputId": "69263c67-a9cc-43a4-864a-49fc47f90694"
      },
      "cell_type": "code",
      "source": [
        "%%sql\n",
        "\n",
        "-- Alias lowest average_reading as lowest_reading\n",
        "SELECT MIN(average_reading) AS lowest_reading FROM schools;"
      ],
      "execution_count": null,
      "outputs": [
        {
          "output_type": "stream",
          "text": " * postgresql:///schools\n1 rows affected.\n",
          "name": "stdout"
        },
        {
          "output_type": "execute_result",
          "execution_count": 156,
          "data": {
            "text/plain": "[(302,)]",
            "text/html": "<table>\n    <thead>\n        <tr>\n            <th>lowest_reading</th>\n        </tr>\n    </thead>\n    <tbody>\n        <tr>\n            <td>302</td>\n        </tr>\n    </tbody>\n</table>"
          },
          "metadata": {}
        }
      ]
    },
    {
      "metadata": {
        "dc": {
          "key": "41"
        },
        "deletable": false,
        "editable": false,
        "run_control": {
          "frozen": true
        },
        "tags": [
          "context"
        ],
        "id": "tQk46wP_2Hq8"
      },
      "cell_type": "markdown",
      "source": [
        "## 6. Best writing school\n",
        "<p>The lowest average score for reading across schools in New York City is less than 40% of the total available points! </p>\n",
        "<p>Now let's find the school with the highest average writing score.</p>"
      ]
    },
    {
      "metadata": {
        "dc": {
          "key": "41"
        },
        "tags": [
          "sample_code"
        ],
        "trusted": true,
        "id": "5Ew5AKzl2Hq8",
        "outputId": "f3445749-7076-4db1-fe9b-2e5bd3163734"
      },
      "cell_type": "code",
      "source": [
        "%%sql\n",
        "\n",
        "-- Select school_name and the top score for average_writing\n",
        "-- Group the results by school_name\n",
        "-- Sort by max_writing in descending order\n",
        "-- Reduce the output to one school\n",
        "SELECT school_name, MAX(average_writing) AS max_writing FROM schools GROUP BY school_name ORDER BY max_writing DESC LIMIT 1;"
      ],
      "execution_count": null,
      "outputs": [
        {
          "output_type": "stream",
          "text": " * postgresql:///schools\n1 rows affected.\n",
          "name": "stdout"
        },
        {
          "output_type": "execute_result",
          "execution_count": 158,
          "data": {
            "text/plain": "[('Stuyvesant High School', 693)]",
            "text/html": "<table>\n    <thead>\n        <tr>\n            <th>school_name</th>\n            <th>max_writing</th>\n        </tr>\n    </thead>\n    <tbody>\n        <tr>\n            <td>Stuyvesant High School</td>\n            <td>693</td>\n        </tr>\n    </tbody>\n</table>"
          },
          "metadata": {}
        }
      ]
    },
    {
      "metadata": {
        "dc": {
          "key": "48"
        },
        "deletable": false,
        "editable": false,
        "run_control": {
          "frozen": true
        },
        "tags": [
          "context"
        ],
        "id": "8RsxdDEB2Hq9"
      },
      "cell_type": "markdown",
      "source": [
        "## 7. Top 10 schools\n",
        "<p>An average writing score of 693 is pretty impressive! </p>\n",
        "<p>This top math score was at the same school that got the top writing score, Stuyvesant High School. Stuyvesant is widely known as a perennial top school in New York. </p>\n",
        "<p>What other schools are also excellent across the board? Let's look at scores across reading, writing, and math to find out.</p>"
      ]
    },
    {
      "metadata": {
        "dc": {
          "key": "48"
        },
        "tags": [
          "sample_code"
        ],
        "trusted": true,
        "id": "qBUSunVj2Hq9",
        "outputId": "44dc48e3-a939-42e4-a602-822cd7e0928a"
      },
      "cell_type": "code",
      "source": [
        "%%sql\n",
        "\n",
        "-- Select school_name and calculate average_sat\n",
        "-- Group by school_name\n",
        "-- Sort by average_sat in descending order\n",
        "-- Display the top 10 results\n",
        "SELECT school_name, SUM(average_math+average_reading+average_writing)AS average_sat from schools GROUP BY school_name\n",
        "ORDER BY average_sat DESC LIMIT 10;"
      ],
      "execution_count": null,
      "outputs": [
        {
          "output_type": "stream",
          "text": " * postgresql:///schools\n10 rows affected.\n",
          "name": "stdout"
        },
        {
          "output_type": "execute_result",
          "execution_count": 160,
          "data": {
            "text/plain": "[('Stuyvesant High School', 2144),\n ('Staten Island Technical High School', 2041),\n ('Bronx High School of Science', 2041),\n ('High School of American Studies at Lehman College', 2013),\n ('Townsend Harris High School', 1981),\n ('Queens High School for the Sciences at York College', 1947),\n ('Bard High School Early College', 1914),\n ('Brooklyn Technical High School', 1896),\n ('Eleanor Roosevelt High School', 1889),\n ('High School for Mathematics, Science, and Engineering at City College', 1889)]",
            "text/html": "<table>\n    <thead>\n        <tr>\n            <th>school_name</th>\n            <th>average_sat</th>\n        </tr>\n    </thead>\n    <tbody>\n        <tr>\n            <td>Stuyvesant High School</td>\n            <td>2144</td>\n        </tr>\n        <tr>\n            <td>Staten Island Technical High School</td>\n            <td>2041</td>\n        </tr>\n        <tr>\n            <td>Bronx High School of Science</td>\n            <td>2041</td>\n        </tr>\n        <tr>\n            <td>High School of American Studies at Lehman College</td>\n            <td>2013</td>\n        </tr>\n        <tr>\n            <td>Townsend Harris High School</td>\n            <td>1981</td>\n        </tr>\n        <tr>\n            <td>Queens High School for the Sciences at York College</td>\n            <td>1947</td>\n        </tr>\n        <tr>\n            <td>Bard High School Early College</td>\n            <td>1914</td>\n        </tr>\n        <tr>\n            <td>Brooklyn Technical High School</td>\n            <td>1896</td>\n        </tr>\n        <tr>\n            <td>Eleanor Roosevelt High School</td>\n            <td>1889</td>\n        </tr>\n        <tr>\n            <td>High School for Mathematics, Science, and Engineering at City College</td>\n            <td>1889</td>\n        </tr>\n    </tbody>\n</table>"
          },
          "metadata": {}
        }
      ]
    },
    {
      "metadata": {
        "dc": {
          "key": "55"
        },
        "deletable": false,
        "editable": false,
        "run_control": {
          "frozen": true
        },
        "tags": [
          "context"
        ],
        "id": "XoAwRC4H2Hq9"
      },
      "cell_type": "markdown",
      "source": [
        "## 8. Ranking boroughs\n",
        "<p>There are four schools with average SAT scores of over 2000! Now let's analyze performance by New York City borough. </p>\n",
        "<p>We will build a query that calculates the number of schools and the average SAT score per borough!</p>"
      ]
    },
    {
      "metadata": {
        "dc": {
          "key": "55"
        },
        "tags": [
          "sample_code"
        ],
        "trusted": true,
        "id": "3f_evW6k2Hq9",
        "outputId": "8493abcb-25e4-461a-c376-9c7c6b083313"
      },
      "cell_type": "code",
      "source": [
        "%%sql\n",
        "\n",
        "-- Select borough and a count of all schools, aliased as num_schools\n",
        "-- Calculate the sum of average_math, average_reading, and average_writing, divided by a count of all schools, aliased as average_borough_sat\n",
        "-- Organize the results by borough\n",
        "-- Display by average_borough_sat in descending order\n",
        "\n",
        "SELECT borough, COUNT(school_name) AS num_schools, SUM(average_math + average_reading + average_writing)/COUNT(*) AS\n",
        "average_borough_sat FROM schools GROUP BY borough ORDER BY average_borough_sat DESC;"
      ],
      "execution_count": null,
      "outputs": [
        {
          "output_type": "stream",
          "text": " * postgresql:///schools\n5 rows affected.\n",
          "name": "stdout"
        },
        {
          "output_type": "execute_result",
          "execution_count": 162,
          "data": {
            "text/plain": "[('Staten Island', 10, 1439),\n ('Queens', 69, 1345),\n ('Manhattan', 89, 1340),\n ('Brooklyn', 109, 1230),\n ('Bronx', 98, 1202)]",
            "text/html": "<table>\n    <thead>\n        <tr>\n            <th>borough</th>\n            <th>num_schools</th>\n            <th>average_borough_sat</th>\n        </tr>\n    </thead>\n    <tbody>\n        <tr>\n            <td>Staten Island</td>\n            <td>10</td>\n            <td>1439</td>\n        </tr>\n        <tr>\n            <td>Queens</td>\n            <td>69</td>\n            <td>1345</td>\n        </tr>\n        <tr>\n            <td>Manhattan</td>\n            <td>89</td>\n            <td>1340</td>\n        </tr>\n        <tr>\n            <td>Brooklyn</td>\n            <td>109</td>\n            <td>1230</td>\n        </tr>\n        <tr>\n            <td>Bronx</td>\n            <td>98</td>\n            <td>1202</td>\n        </tr>\n    </tbody>\n</table>"
          },
          "metadata": {}
        }
      ]
    },
    {
      "metadata": {
        "dc": {
          "key": "62"
        },
        "deletable": false,
        "editable": false,
        "run_control": {
          "frozen": true
        },
        "tags": [
          "context"
        ],
        "id": "hPvANdlr2Hq-"
      },
      "cell_type": "markdown",
      "source": [
        "## 9. Brooklyn numbers\n",
        "<p>It appears that schools in Staten Island, on average, produce higher scores across all three categories. However, there are only 10 schools in Staten Island, compared to an average of 91 schools in the other four boroughs!</p>\n",
        "<p>For our final query of the database, let's focus on Brooklyn, which has 109 schools. We wish to find the top five schools for math performance.</p>"
      ]
    },
    {
      "metadata": {
        "dc": {
          "key": "62"
        },
        "tags": [
          "sample_code"
        ],
        "trusted": true,
        "id": "MkA3_rU-2Hq-",
        "outputId": "1cf73a04-95a5-4903-f047-73cfa1c3eecf"
      },
      "cell_type": "code",
      "source": [
        "%%sql\n",
        "\n",
        "-- Select school_name and average_math\n",
        "-- Filter for schools in Brooklyn\n",
        "-- Aggregate by school_name\n",
        "-- Display results from highest to lowest average_math and restrict output to five rows\n",
        "SELECT school_name, average_math FROM schools WHERE borough = 'Brooklyn' GROUP BY school_name ORDER BY average_math DESC\n",
        "LIMIT 5;"
      ],
      "execution_count": null,
      "outputs": [
        {
          "output_type": "stream",
          "text": " * postgresql:///schools\n5 rows affected.\n",
          "name": "stdout"
        },
        {
          "output_type": "execute_result",
          "execution_count": 164,
          "data": {
            "text/plain": "[('Brooklyn Technical High School', 682),\n ('Brooklyn Latin School', 625),\n ('Leon M. Goldstein High School for the Sciences', 563),\n ('Millennium Brooklyn High School', 553),\n ('Midwood High School', 550)]",
            "text/html": "<table>\n    <thead>\n        <tr>\n            <th>school_name</th>\n            <th>average_math</th>\n        </tr>\n    </thead>\n    <tbody>\n        <tr>\n            <td>Brooklyn Technical High School</td>\n            <td>682</td>\n        </tr>\n        <tr>\n            <td>Brooklyn Latin School</td>\n            <td>625</td>\n        </tr>\n        <tr>\n            <td>Leon M. Goldstein High School for the Sciences</td>\n            <td>563</td>\n        </tr>\n        <tr>\n            <td>Millennium Brooklyn High School</td>\n            <td>553</td>\n        </tr>\n        <tr>\n            <td>Midwood High School</td>\n            <td>550</td>\n        </tr>\n    </tbody>\n</table>"
          },
          "metadata": {}
        }
      ]
    }
  ],
  "metadata": {
    "kernelspec": {
      "name": "python3",
      "display_name": "Python 3",
      "language": "python"
    },
    "language_info": {
      "name": "python",
      "version": "3.6.7",
      "mimetype": "text/x-python",
      "codemirror_mode": {
        "name": "ipython",
        "version": 3
      },
      "pygments_lexer": "ipython3",
      "nbconvert_exporter": "python",
      "file_extension": ".py"
    },
    "colab": {
      "name": "Analyzing NYC Public School Test Result  Scores.ipynb",
      "provenance": [],
      "collapsed_sections": [],
      "include_colab_link": true
    }
  },
  "nbformat": 4,
  "nbformat_minor": 0
}